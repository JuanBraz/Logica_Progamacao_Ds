{
 "cells": [
  {
   "cell_type": "code",
   "execution_count": null,
   "metadata": {},
   "outputs": [],
   "source": [
    "frase = str(input('Insira uma palavra ou frase: ')).strip().upper()\n",
    "\n",
    "# strip retira o espaço entre as letras/palavras\n",
    "\n",
    "print(frase)\n",
    "\n",
    "palavras = frase.split()\n",
    "caractere = ''.join(palavras)\n",
    "\n",
    "# split cria um espaço entre as letras\n",
    "\n",
    "fraseinvertida = ''\n",
    "\n",
    "for i in range(len(caractere) -1, -1, -1):\n",
    "    fraseinvertida += caractere[i]\n",
    "\n",
    "print(caractere, fraseinvertida)\n",
    "\n",
    "if fraseinvertida == caractere:\n",
    "    print('É um palíndromo! ')\n",
    "else:\n",
    "    print('Não é um palíndromo! ')"
   ]
  },
  {
   "cell_type": "code",
   "execution_count": 2,
   "metadata": {},
   "outputs": [
    {
     "name": "stdout",
     "output_type": "stream",
     "text": [
      "cpf: 112.112.47\n"
     ]
    }
   ],
   "source": [
    "cpf = input('Digite seu CPF: ').replace('-', '').replace('.', '')\n",
    "print(f'cpf: {cpf[:3]}.{cpf[3:6]}.{cpf[6:9]}.{cpf[9:]}')"
   ]
  },
  {
   "cell_type": "code",
   "execution_count": null,
   "metadata": {},
   "outputs": [],
   "source": [
    "# dicionário\n",
    "'''\n",
    "    inicialmente é atribuido a uma variavel, os dados são como parâmetros\n",
    "    o metodo construtor dict() converterá internamente a variável em chave e seu atributo como valor\n",
    "'''\n",
    "\n",
    "dicionario = dict(\n",
    "    pao = 'R$ 1,99',\n",
    "    acucar = 'R$ 4,99',\n",
    "    cafe = 'R$ 3,99',\n",
    "    macarrao = 'R$ 4,99',\n",
    "    carne = 'R$ 16,99'\n",
    ")"
   ]
  },
  {
   "cell_type": "code",
   "execution_count": null,
   "metadata": {},
   "outputs": [],
   "source": [
    "# Criando o dicionário de produtos\n",
    "produtos = {\n",
    "    101: {'nome' : 'Chocolate', 'preço' : 5.00, 'estoque' : 10},\n",
    "    102: {'nome' : 'Pão', 'preço' : 6.99, 'estoque' : 100},\n",
    "    103: {'nome' : 'Biscoito', 'preço' : 2.99, 'estoque' : 20}\n",
    "}\n",
    "\n",
    "print(produtos)\n",
    "\n",
    "for codigo, info in produtos.items():\n",
    "    print(f'Código: {codigo}')\n",
    "    print(f'Nome: {info['nome']}')\n",
    "    print(f'Preço: {info['preço']}')\n",
    "    print(f'Estoque: {info['estoque']}')\n",
    "    print()\n",
    "\n",
    "'''\n",
    "print(produtos.values()) : para mostrar só os valores do produto\n",
    "print(produtos.values()): para mostrar 'tuplas' (lista)\n",
    "print(produtos[101]['nomes']) : para mostrar o produto específico\n",
    "'''\n"
   ]
  }
 ],
 "metadata": {
  "kernelspec": {
   "display_name": "venv",
   "language": "python",
   "name": "python3"
  },
  "language_info": {
   "codemirror_mode": {
    "name": "ipython",
    "version": 3
   },
   "file_extension": ".py",
   "mimetype": "text/x-python",
   "name": "python",
   "nbconvert_exporter": "python",
   "pygments_lexer": "ipython3",
   "version": "3.12.6"
  }
 },
 "nbformat": 4,
 "nbformat_minor": 2
}
