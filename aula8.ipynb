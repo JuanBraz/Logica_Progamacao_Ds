{
 "cells": [
  {
   "cell_type": "code",
   "execution_count": 3,
   "metadata": {},
   "outputs": [],
   "source": [
    "altura = int(input('Digite a altura da arvore: '))\n",
    "\n",
    "for i in range(1, altura):\n",
    "    for _  in range(altura - i):\n",
    "        print(' ', end= '')\n",
    "        \n",
    "    for _ in range(i):\n",
    "        print('*', end='')\n",
    "        \n",
    "    print()\n",
    "    altura +=1\n",
    "          "
   ]
  },
  {
   "cell_type": "code",
   "execution_count": 1,
   "metadata": {},
   "outputs": [
    {
     "name": "stdout",
     "output_type": "stream",
     "text": [
      "Encontrei o dias\n"
     ]
    }
   ],
   "source": [
    "lista = ['lucas', 'natan', 'juan', 'quaresma', 'dias']\n",
    "while True:\n",
    "    if 'dias' in lista:\n",
    "        print('Encontrei o dias')\n",
    "        break\n",
    "    \n",
    "        "
   ]
  },
  {
   "cell_type": "code",
   "execution_count": null,
   "metadata": {},
   "outputs": [],
   "source": [
    "lista_nomes = []\n",
    "\n",
    "while True:\n",
    "    nome = input('Digite um nome ou enter no vazio para sair: ')\n",
    "    if nome != '':\n",
    "        lista_nomes.append(nome)\n",
    "    else:\n",
    "        break\n",
    "    \n",
    "print (lista_nomes)"
   ]
  },
  {
   "cell_type": "code",
   "execution_count": null,
   "metadata": {},
   "outputs": [],
   "source": [
    "lista_notas = []\n",
    "\n",
    "while True:\n",
    "    notas = input('Digite uma nota: ')\n",
    "    if notas != '':\n",
    "        lista_notas.append(notas)\n",
    "    else:\n",
    "        print()"
   ]
  },
  {
   "cell_type": "code",
   "execution_count": 4,
   "metadata": {},
   "outputs": [
    {
     "name": "stdout",
     "output_type": "stream",
     "text": [
      "         #\n",
      "        ###\n",
      "       #####\n",
      "      #######\n",
      "     #########\n",
      "    ###########\n",
      "   #############\n",
      "  ###############\n",
      " #################\n",
      "###################\n"
     ]
    }
   ],
   "source": [
    "while True:\n",
    "    altura = int(input('Digite a altura da priramide: '))\n",
    "    \n",
    "    if altura > 1:\n",
    "        break\n",
    "    \n",
    "for i in range(altura):\n",
    "    print(' ' * (altura - (i + 1)) + '#' * (2*i + 1)) "
   ]
  },
  {
   "cell_type": "code",
   "execution_count": null,
   "metadata": {},
   "outputs": [],
   "source": [
    "while True:\n",
    "    print('1. Cadastrar usuário.')\n",
    "    print('2. Listar usuário.')\n",
    "    print('3.')"
   ]
  }
 ],
 "metadata": {
  "kernelspec": {
   "display_name": "venv",
   "language": "python",
   "name": "python3"
  },
  "language_info": {
   "codemirror_mode": {
    "name": "ipython",
    "version": 3
   },
   "file_extension": ".py",
   "mimetype": "text/x-python",
   "name": "python",
   "nbconvert_exporter": "python",
   "pygments_lexer": "ipython3",
   "version": "3.12.6"
  }
 },
 "nbformat": 4,
 "nbformat_minor": 2
}
